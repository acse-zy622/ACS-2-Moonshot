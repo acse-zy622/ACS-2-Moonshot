{
 "cells": [
  {
   "cell_type": "markdown",
   "id": "55ca1967",
   "metadata": {},
   "source": [
    "## Introduction\n",
    "\n",
    "\n",
    "Please **Run this notebook to explore crater detection model**"
   ]
  },
  {
   "cell_type": "markdown",
   "id": "6f47e312",
   "metadata": {},
   "source": [
    "### initialisation"
   ]
  },
  {
   "cell_type": "code",
   "execution_count": 136,
   "id": "84289615",
   "metadata": {},
   "outputs": [],
   "source": [
    "import pandas as pd\n",
    "import numpy as np\n",
    "import matplotlib.pyplot as plt\n",
    "import ipywidgets as widgets\n",
    "import os\n",
    "import re\n",
    "# import torch\n",
    "from yolov5 import utils\n",
    "import torch\n",
    "import torchvision\n",
    "from PIL import Image\n",
    "import ipyplot\n",
    "from IPython.display import display\n",
    "from pathlib import Path\n",
    "# yolov5\n",
    "from yolov5 import crater_tools"
   ]
  },
  {
   "cell_type": "markdown",
   "id": "a00913c3",
   "metadata": {},
   "source": [
    "### set the workspace path"
   ]
  },
  {
   "cell_type": "code",
   "execution_count": 6,
   "id": "325144fe",
   "metadata": {},
   "outputs": [
    {
     "data": {
      "text/plain": [
       "'/Users/yd1522/ACSE-2/group_project'"
      ]
     },
     "execution_count": 6,
     "metadata": {},
     "output_type": "execute_result"
    }
   ],
   "source": [
    "# the workspace path, your current file path\n",
    "# os.getcwd()\n",
    "# # os.chdir('/Users/yd1522/ACSE-2/group_project')\n",
    "workspace_path = os.getcwd()\n",
    "workspace_path"
   ]
  },
  {
   "cell_type": "markdown",
   "id": "faec88b0",
   "metadata": {},
   "source": [
    "## Model input\n",
    "please input the test path "
   ]
  },
  {
   "cell_type": "markdown",
   "id": "32619fb1",
   "metadata": {},
   "source": [
    "**input the test_path**"
   ]
  },
  {
   "cell_type": "code",
   "execution_count": 7,
   "id": "aa3c2fa7",
   "metadata": {},
   "outputs": [],
   "source": [
    "inputbounded_test_path = widgets.Text(\n",
    "    description='test_path: ',\n",
    "    value = '/workspace/dataset/test'\n",
    ")"
   ]
  },
  {
   "cell_type": "markdown",
   "id": "c2199aee",
   "metadata": {},
   "source": [
    "**input the CDM output path**"
   ]
  },
  {
   "cell_type": "code",
   "execution_count": 8,
   "id": "7355bf76",
   "metadata": {},
   "outputs": [],
   "source": [
    "inputbounded_output_path = widgets.Text(\n",
    "    description='output_path: ',\n",
    "    value = '/workspace/CDM/moon'\n",
    ")"
   ]
  },
  {
   "cell_type": "markdown",
   "id": "b8675fac",
   "metadata": {},
   "source": [
    "**input the location of the image centre**"
   ]
  },
  {
   "cell_type": "code",
   "execution_count": 10,
   "id": "6228daf8",
   "metadata": {},
   "outputs": [],
   "source": [
    "inputbounded_image_centre = widgets.BoundedFloatText(\n",
    "    description='centre: ',\n",
    "    value = 0\n",
    ")"
   ]
  },
  {
   "cell_type": "markdown",
   "id": "42cba871",
   "metadata": {},
   "source": [
    "**input the image width**"
   ]
  },
  {
   "cell_type": "code",
   "execution_count": 9,
   "id": "b61e0535",
   "metadata": {},
   "outputs": [],
   "source": [
    "inputbounded_image_width = widgets.BoundedFloatText(\n",
    "    description='width: ',\n",
    "    value = 0\n",
    ")"
   ]
  },
  {
   "cell_type": "markdown",
   "id": "36025d99",
   "metadata": {},
   "source": [
    "**input the image height**"
   ]
  },
  {
   "cell_type": "code",
   "execution_count": 11,
   "id": "158ee9ae",
   "metadata": {},
   "outputs": [],
   "source": [
    "inputbounded_image_height = widgets.BoundedFloatText(\n",
    "    description='height: ',\n",
    "    value = 0\n",
    ")"
   ]
  },
  {
   "cell_type": "markdown",
   "id": "f53e5580",
   "metadata": {},
   "source": [
    "**input the image resolution**"
   ]
  },
  {
   "cell_type": "code",
   "execution_count": 12,
   "id": "1e553d77",
   "metadata": {},
   "outputs": [],
   "source": [
    "inputbounded_image_resolution = widgets.BoundedFloatText(\n",
    "    description='resolution: ',\n",
    "    value = 0\n",
    ")"
   ]
  },
  {
   "cell_type": "markdown",
   "id": "7e3a0ac4",
   "metadata": {},
   "source": [
    "**input the radius of the target planet**"
   ]
  },
  {
   "cell_type": "code",
   "execution_count": 13,
   "id": "19e50126",
   "metadata": {},
   "outputs": [],
   "source": [
    "inputbounded_planet_radius = widgets.BoundedFloatText(\n",
    "    description='radius: ',\n",
    "    value = 0\n",
    ")"
   ]
  },
  {
   "cell_type": "markdown",
   "id": "fe771165",
   "metadata": {},
   "source": [
    "**built the input GUI framework** to double check"
   ]
  },
  {
   "cell_type": "code",
   "execution_count": 14,
   "id": "5f9559cc",
   "metadata": {},
   "outputs": [],
   "source": [
    "output_1 = widgets.Output()\n",
    "input_1_box = widgets.HBox([inputbounded_test_path, inputbounded_output_path])"
   ]
  },
  {
   "cell_type": "code",
   "execution_count": 15,
   "id": "a519dbed",
   "metadata": {},
   "outputs": [],
   "source": [
    "input_2_box = widgets.HBox([inputbounded_image_centre, inputbounded_image_width, inputbounded_image_height])\n",
    "input_box = widgets.VBox([input_1_box, input_2_box])"
   ]
  },
  {
   "cell_type": "code",
   "execution_count": 16,
   "id": "12e2b7f4",
   "metadata": {},
   "outputs": [],
   "source": [
    "input_3_box = widgets.HBox([inputbounded_image_resolution, inputbounded_planet_radius])\n",
    "input_box = widgets.VBox([input_1_box, input_2_box,input_3_box ])\n",
    "input_widgets1 = widgets.VBox([input_box])\n",
    "btn_input = widgets.Button(description='Input')\n",
    "\n",
    "tab = widgets.Tab([output_1])"
   ]
  },
  {
   "cell_type": "code",
   "execution_count": 17,
   "id": "72e9316a",
   "metadata": {},
   "outputs": [],
   "source": [
    "input_widgets_ = widgets.HBox([btn_input])\n",
    "input_widgets3 = widgets.VBox([input_widgets1,input_widgets_])\n",
    "dashboard1 = widgets.VBox([input_widgets3, tab])\n"
   ]
  },
  {
   "cell_type": "code",
   "execution_count": 18,
   "id": "0d68166c",
   "metadata": {},
   "outputs": [],
   "source": [
    "def user_input():\n",
    "    \n",
    "    print(\"Your test dataset path is: {}\".format(inputbounded_test_path.value))\n",
    "    print(\"Your CDM output path is: {}\".format(inputbounded_output_path.value))\n",
    "    print(\"Your image centre in latitude and longitude is: {}\".format(inputbounded_image_centre.value))\n",
    "    print(\"Your image width in dgrees is: {}\".format(inputbounded_image_width.value))\n",
    "    print(\"Your image height is dgrees is: {}\".format(inputbounded_image_height.value))\n",
    "    print(\"Your image resolution  is: {} (m/px)\".format(inputbounded_image_resolution.value))\n",
    "    print(\"Your input radius of the target planet is: {}\".format(inputbounded_planet_radius.value))\n",
    "\n"
   ]
  },
  {
   "cell_type": "code",
   "execution_count": 120,
   "id": "83d3a8a4",
   "metadata": {},
   "outputs": [],
   "source": [
    "def get_result():\n",
    "    output_1.clear_output()\n",
    "    with output_1:\n",
    "        df_result = user_input()\n",
    "        \n",
    "def btn_input_eventhandler(obj):\n",
    "    get_result()\n",
    "\n",
    "btn_input.on_click(btn_input_eventhandler)"
   ]
  },
  {
   "cell_type": "code",
   "execution_count": 23,
   "id": "6847bda9",
   "metadata": {},
   "outputs": [],
   "source": [
    "# test_path /Users/yd1522/ACSE-2/example-data/mars\n",
    "# output_path /Users/yd1522/ACSE-2/CDM"
   ]
  },
  {
   "cell_type": "markdown",
   "id": "a2b6ec08",
   "metadata": {},
   "source": [
    "**input here :D**\n",
    "- **click** the button **[input]** for double check your input parameters\n",
    "- for centre, width, height, resolution, radius is set to be 0 as default, but they are not used in our model currently\n",
    "    - for future improvement, we will create python script and use above parameters(c, w, h etc.) as api to do dataset preprocessing"
   ]
  },
  {
   "cell_type": "code",
   "execution_count": 25,
   "id": "8d0a6957",
   "metadata": {},
   "outputs": [
    {
     "data": {
      "application/vnd.jupyter.widget-view+json": {
       "model_id": "4d055f131a8c476a9b2c4eb1f2e15a51",
       "version_major": 2,
       "version_minor": 0
      },
      "text/plain": [
       "VBox(children=(VBox(children=(VBox(children=(VBox(children=(HBox(children=(Text(value='/workspace/dataset/test…"
      ]
     },
     "metadata": {},
     "output_type": "display_data"
    }
   ],
   "source": [
    "display(dashboard1)"
   ]
  },
  {
   "cell_type": "markdown",
   "id": "f161b978",
   "metadata": {},
   "source": [
    "## Mars CDM"
   ]
  },
  {
   "cell_type": "markdown",
   "id": "f8a3b947",
   "metadata": {},
   "source": [
    "### user-guide & workflow"
   ]
  },
  {
   "cell_type": "markdown",
   "id": "f02e10cf",
   "metadata": {},
   "source": [
    "- **Step1**: use crater tool **generate_test_files.py** to automatically \n",
    "    - get dataset from your input path\n",
    "    - generate new $.yaml$ file for validate in test dataset\n",
    "\n",
    "\n",
    "- **Step2**: run **detect.py** to get predictions \n",
    "    - for directly using the interface, please set the API **--exist_ok** set **True**\n",
    "    - use crater tool \"plot_two_boxes.py\" to get images with\n",
    "\n",
    "\n",
    "- **Step3**: run **val.py** with crater CDM API (**--val-test**)\n",
    "    - for directly using the interface, please set the API **--exist_ok** set **True**\n",
    "    - get the statistics analysis results over the whole test dataset\n",
    "    - name: val-test-statistics-results.csv\n",
    "    \n",
    "    \n",
    "- **Step4**: use crater tool **get_bbox_csv.py** to get get detections csv files\n",
    "\n",
    "    \n",
    "- **Step5**: run crater tool **generate_output_results.py** to automatically get results in output path"
   ]
  },
  {
   "cell_type": "markdown",
   "id": "058d65ba",
   "metadata": {},
   "source": [
    "### Mars Task GUI"
   ]
  },
  {
   "cell_type": "code",
   "execution_count": 47,
   "id": "bbc74e13",
   "metadata": {},
   "outputs": [],
   "source": [
    "Mars_Task = widgets.Dropdown(\n",
    "    options = ['Start', 'Step1', 'Step2', 'Step3', 'Step5'],\n",
    "    value = 'Start',\n",
    "    description = 'Mars Task: '\n",
    ")\n",
    "# Mars_Task"
   ]
  },
  {
   "cell_type": "code",
   "execution_count": 48,
   "id": "c190d492",
   "metadata": {},
   "outputs": [],
   "source": [
    "Mars_Task_output_gui = widgets.Output()\n",
    "Mars_Task_tab = widgets.Tab([Mars_Task_output_gui])\n",
    "# Mars_Task_tab"
   ]
  },
  {
   "cell_type": "code",
   "execution_count": 49,
   "id": "090951fb",
   "metadata": {
    "scrolled": true
   },
   "outputs": [],
   "source": [
    "Mars_Task_dashboard_gui = widgets.VBox([Mars_Task, Mars_Task_tab])\n",
    "# Mars_Task_dashboard_gui"
   ]
  },
  {
   "cell_type": "code",
   "execution_count": 62,
   "id": "145f8624",
   "metadata": {},
   "outputs": [],
   "source": [
    "def Mars_Task_gui_func(change):\n",
    "    with Mars_Task_output_gui:\n",
    "        Mars_Task_output_gui.clear_output()\n",
    "        if change['new'] == 'Step1':\n",
    "\n",
    "            os.chdir(workspace_path+'/yolov5/crater_tools')\n",
    "            !python generate_test_files.py $inputbounded_test_path.value $'mars'\n",
    "\n",
    "        elif change['new'] == 'Step2':\n",
    "            # detect\n",
    "            os.chdir(workspace_path+'/yolov5')\n",
    "            !python detect.py --weights /weights/best_mars_1.pt --conf 0.25 --source ../yolov5/datasets/mars/images/mytest --exist-ok\n",
    "            ## plot_two_bboxes\n",
    "            os.chdir(workspace_path+'/yolov5/crater_tools')\n",
    "            !python plot_two_boxes.py\n",
    "            \n",
    "            \n",
    "        elif change['new'] == 'Step3':\n",
    "            # Validate your chosen weights on your test datset\n",
    "            os.chdir(workspace_path+'/yolov5')\n",
    "            !python val.py --weights /weights/best_mars_1.pt --data ../yolov5/data/mars-detect.yaml --exist-ok --val-test\n",
    "\n",
    "        elif change['new'] == 'Step4':\n",
    "            # get detections\n",
    "            os.chdir(workspace_path+'/yolov5/crater_tools')\n",
    "            !python get_bbox_csv.py $'mars' \n",
    "            \n",
    "        elif change['new'] == 'Step5':\n",
    "            # get output results\n",
    "            os.chdir(workspace_path+'/yolov5/crater_tools')\n",
    "            !python generate_output_results.py $'mars' \n",
    "            \n",
    "        else:\n",
    "            # :D\n",
    "            print(\"\\n\")\n",
    "            print(\"**********************Please Select a Mars Task :D ***************\")\n"
   ]
  },
  {
   "cell_type": "code",
   "execution_count": 63,
   "id": "57a1dc2b",
   "metadata": {},
   "outputs": [],
   "source": [
    "Mars_Task.observe(Mars_Task_gui_func, names='value')"
   ]
  },
  {
   "cell_type": "markdown",
   "id": "9d0a91fc",
   "metadata": {},
   "source": [
    "**Mars Task GUI**"
   ]
  },
  {
   "cell_type": "code",
   "execution_count": 66,
   "id": "bb20c1bf",
   "metadata": {},
   "outputs": [
    {
     "data": {
      "application/vnd.jupyter.widget-view+json": {
       "model_id": "329673f45cfb4c218bec02244c114234",
       "version_major": 2,
       "version_minor": 0
      },
      "text/plain": [
       "VBox(children=(Dropdown(description='Mars Task: ', index=1, options=('Start', 'Step1', 'Step2', 'Step3', 'Step…"
      ]
     },
     "metadata": {},
     "output_type": "display_data"
    }
   ],
   "source": [
    "display(Mars_Task_dashboard_gui)"
   ]
  },
  {
   "cell_type": "markdown",
   "id": "95d54b38",
   "metadata": {},
   "source": [
    "###  load Mars CDM results"
   ]
  },
  {
   "cell_type": "code",
   "execution_count": 74,
   "id": "8a42a227",
   "metadata": {},
   "outputs": [],
   "source": [
    "import re\n",
    "image_path = '/Users/yd1522/ACSE-2/group_project//Mars_THEMIS_Training/images'\n",
    "os.chdir(workspace_path)\n",
    "path = os.getcwd()\n",
    "rel_path = os.path.relpath(image_path, path)\n",
    "files = os.listdir(rel_path)\n",
    "images = [rel_path + '/' +\n",
    "          files[i] for i in range(len(files)) \n",
    "          if re.search(\".pn\", files[i]) is not None]\n",
    "\n",
    "#get all categories\n",
    "kinds = [image.split('_')[-3] for image in images]\n",
    "kinds_ = [kind.split('/')[-1] for kind in kinds]"
   ]
  },
  {
   "cell_type": "markdown",
   "id": "c4406d68",
   "metadata": {},
   "source": [
    "**load Mars detect data**"
   ]
  },
  {
   "cell_type": "code",
   "execution_count": 76,
   "id": "2df8018a",
   "metadata": {},
   "outputs": [],
   "source": [
    "# /Users/yd1522/ACSE-2/group_project/yolov5/runs/mars\n",
    "image_path_de = '/Users/yd1522/ACSE-2/group_project//yolov5/runs/mars/detect/exp'\n",
    "path_de = os.getcwd()\n",
    "rel_path_de = os.path.relpath(image_path_de, path_de)\n",
    "files_de = os.listdir(rel_path_de)\n",
    "images_de = [rel_path_de + '/' +\n",
    "          files_de[i] for i in range(len(files_de)) \n",
    "          if re.search(\".pn\", files_de[i]) is not None]\n",
    "\n",
    "#get all categories\n",
    "kinds_de = [image.split('_')[-3] for image in images_de]\n",
    "kinds_de_ = [kind.split('/')[-1] for kind in kinds_de]\n",
    "# kinds_de_"
   ]
  },
  {
   "cell_type": "markdown",
   "id": "8e71150a",
   "metadata": {},
   "source": [
    "**load Mars detect comparsion**"
   ]
  },
  {
   "cell_type": "code",
   "execution_count": 77,
   "id": "f2313fc9",
   "metadata": {},
   "outputs": [],
   "source": [
    "# /Users/yd1522/ACSE-2/group_project/yolov5/runs/mars\n",
    "image_path_comp = '/Users/yd1522/ACSE-2/group_project//yolov5/runs/plot/exp9'\n",
    "path_comp = os.getcwd()\n",
    "rel_path_comp = os.path.relpath(image_path_comp, path_comp)\n",
    "files_comp = os.listdir(rel_path_comp)\n",
    "images_comp = [rel_path_comp + '/' +\n",
    "          files_comp[i] for i in range(len(files_comp)) \n",
    "          if re.search(\".pn\", files_comp[i]) is not None]\n",
    "\n",
    "#get all categories\n",
    "kinds_comp = [image.split('_')[-3] for image in images_comp]\n",
    "kinds_comp_ = [kind.split('/')[-1] for kind in kinds_comp]\n",
    "# kinds_comp_"
   ]
  },
  {
   "cell_type": "markdown",
   "id": "edb63fea",
   "metadata": {},
   "source": [
    "**load Mars S-F plot**"
   ]
  },
  {
   "cell_type": "code",
   "execution_count": null,
   "id": "553084fa",
   "metadata": {},
   "outputs": [],
   "source": []
  },
  {
   "cell_type": "markdown",
   "id": "453ae2ad",
   "metadata": {},
   "source": [
    "### Mars CDM Gui framework"
   ]
  },
  {
   "cell_type": "code",
   "execution_count": 78,
   "id": "d9c57628",
   "metadata": {},
   "outputs": [],
   "source": [
    "plot_1_Mars = widgets.Output()\n",
    "plot_2_Mars = widgets.Output()\n",
    "\n",
    "plot_3_Mars = widgets.Output()\n",
    "plot_4_Mars = widgets.Output()\n",
    "analysis_mars = widgets.Output()\n",
    "\n",
    "btn_analysis_mars = widgets.Button(description='Analysis')"
   ]
  },
  {
   "cell_type": "code",
   "execution_count": 79,
   "id": "2c7019b2",
   "metadata": {},
   "outputs": [],
   "source": [
    "def common_analysis_mars():\n",
    "    plot_1_Mars.clear_output()\n",
    "    plot_2_Mars.clear_output()\n",
    "    plot_3_Mars.clear_output()\n",
    "    plot_4_Mars.clear_output()\n",
    "    analysis_mars.clear_output()\n",
    "\n",
    "    \n",
    "    with plot_1_Mars:\n",
    "        \n",
    "        ipyplot.plot_class_tabs(images, kinds_, max_imgs_per_tab=10, img_width=150)\n",
    "        \n",
    "        \n",
    "    with plot_2_Mars:\n",
    "\n",
    "        ipyplot.plot_class_tabs(images_de, kinds_de_, max_imgs_per_tab=10, img_width=150)\n",
    "        \n",
    "        \n",
    "    with plot_3_Mars: \n",
    "\n",
    "        ipyplot.plot_class_tabs(images_comp, kinds_comp_, max_imgs_per_tab=10, img_width=150)\n",
    "\n",
    "    \n",
    "    with plot_4_Mars:\n",
    "        !python example.py\n",
    "    \n",
    "    with analysis_mars: # M-z Plot\n",
    "        df_result = pd.read_csv(\"/Users/yd1522/ACSE-2/group_project/val-test-statistics-results.csv\", index_col=0)\n",
    "        display(df_result)\n",
    "\n",
    "    \n",
    "def btn_analysis_eventhandler_mars(obj):\n",
    "    common_analysis_mars()\n",
    "\n",
    "btn_analysis_mars.on_click(btn_analysis_eventhandler_mars)\n"
   ]
  },
  {
   "cell_type": "code",
   "execution_count": 80,
   "id": "6a0b7e26",
   "metadata": {},
   "outputs": [],
   "source": [
    "input_widgets2 = widgets.HBox([btn_analysis_mars])"
   ]
  },
  {
   "cell_type": "code",
   "execution_count": 83,
   "id": "cfe450db",
   "metadata": {},
   "outputs": [],
   "source": [
    "# tab = widgets.Tab([output, output_2, plot_1, plot_2, plot_3, plot_4, plot_5, plot_6])\n",
    "tab_mars = widgets.Tab([plot_1_Mars, plot_2_Mars, plot_3_Mars, plot_4_Mars, analysis_mars])\n",
    "\n",
    "tab_mars.set_title(0, 'Original Image')\n",
    "tab_mars.set_title(1, 'CDM Detection')\n",
    "tab_mars.set_title(2, 'Results Comparison')\n",
    "tab_mars.set_title(3, 'Size-Frequency Plot') # size-frequency distribution of detected craters\n",
    "tab_mars.set_title(4, 'Statistics Analysis')\n",
    "# display(tab_mars)"
   ]
  },
  {
   "cell_type": "code",
   "execution_count": 85,
   "id": "4071eb9e",
   "metadata": {},
   "outputs": [],
   "source": [
    "dashboard2 = widgets.VBox([input_widgets2, tab_mars])\n",
    "# display(dashboard2)"
   ]
  },
  {
   "cell_type": "markdown",
   "id": "7bf1d3cf",
   "metadata": {},
   "source": [
    "## Moon CDM"
   ]
  },
  {
   "cell_type": "markdown",
   "id": "64777bfb",
   "metadata": {},
   "source": [
    "### user-guide & workflow"
   ]
  },
  {
   "cell_type": "markdown",
   "id": "932b8035",
   "metadata": {},
   "source": [
    "- **Step1**: use crater tool **Preproc.py** to automatically \n",
    "    - split the moon dataset images\n",
    "    - from more details see the notebook in **Moon-preproc.ipynb**\n",
    "    \n",
    "    \n",
    "- **Step2**: use crater tool **generate_test_files.py** to automatically \n",
    "    - get dataset from your input path\n",
    "    - generate new $.yaml$ file for validate in test dataset\n",
    "\n",
    "\n",
    "- **Step3**: run **detect.py** to get predictions \n",
    "    - for directly using the interface, please set the API **--exist_ok** set **True**\n",
    "\n",
    "\n",
    "- **Step4**: run **val.py** with crater CDM API (**--val-test**)\n",
    "    - for directly using the interface, please set the API **--exist_ok** set **True**\n",
    "    - get the statistics analysis results over the whole test dataset\n",
    "    - name: val-test-statistics-results.csv\n",
    "    \n",
    "    \n",
    "- **Step5**: run crater tool **generate_output_results.py** to automatically get results in output path\n",
    "    - for more details, see the notebook named **Visualisation.ipynb**"
   ]
  },
  {
   "cell_type": "markdown",
   "id": "9afdb53f",
   "metadata": {},
   "source": [
    "### Moon Task GUI"
   ]
  },
  {
   "cell_type": "code",
   "execution_count": 121,
   "id": "05532dfb",
   "metadata": {},
   "outputs": [],
   "source": [
    "Moon_Task = widgets.Dropdown(\n",
    "    options = ['Start', 'Step1', 'Step2', 'Step3', 'Step5'],\n",
    "    value = 'Start',\n",
    "    description = 'Moon Task: '\n",
    ")\n",
    "# Mars_Task"
   ]
  },
  {
   "cell_type": "code",
   "execution_count": 122,
   "id": "45aae99d",
   "metadata": {},
   "outputs": [],
   "source": [
    "Moon_Task_output_gui = widgets.Output()\n",
    "Moon_Task_tab = widgets.Tab([Moon_Task_output_gui])\n",
    "Moon_Task_dashboard_gui = widgets.VBox([Moon_Task, Moon_Task_tab])"
   ]
  },
  {
   "cell_type": "code",
   "execution_count": 123,
   "id": "f993fde4",
   "metadata": {},
   "outputs": [],
   "source": [
    "def Moon_Task_gui_func(change):\n",
    "    with Moon_Task_output_gui:\n",
    "        Moon_Task_output_gui.clear_output()\n",
    "        \n",
    "        if change['new'] == 'Step1':\n",
    "            # split the moon dataset\n",
    "            # !python Preproc.py for example\n",
    "\n",
    "        elif change['new'] == 'Step2':\n",
    "            # test files generate\n",
    "            os.chdir(workspace_path+'/yolov5/crater_tools')\n",
    "            FILE = Path(inputbounded_test_path.value).resolve()\n",
    "            new_test_path = str(FILE.parents[0]) + '/moon-temp'\n",
    "            !python generate_test_files.py $new_test_path $'moon'\n",
    "\n",
    "        elif change['new'] == 'Step3':\n",
    "            # detect\n",
    "            os.chdir(workspace_path+'/yolov5')\n",
    "            !python detect.py --weights /weights/best_moon_1.pt --conf 0.25 --source ../yolov5/datasets/moon/images/mytest --exist-ok\n",
    "\n",
    "        elif change['new'] == 'Step4':\n",
    "            # Validate your chosen weights on your test datset\n",
    "            os.chdir(workspace_path+'/yolov5')\n",
    "            !python val.py --weights /weights/best_moon_1.pt --data ../yolov5/data/moon-detect.yaml --exist-ok --val-test\n",
    "            \n",
    "            \n",
    "        elif change['new'] == 'Step5':\n",
    "            # get output results\n",
    "            os.chdir(workspace_path+'/yolov5/crater_tools')\n",
    "            !python generate_output_results.py $'moon' \n",
    "\n",
    "        else:\n",
    "            # :D\n",
    "            print(\"\\n\")\n",
    "            print(\"**********************Please Select a Task :D ***************\")\n"
   ]
  },
  {
   "cell_type": "markdown",
   "id": "a118fae7",
   "metadata": {},
   "source": [
    "**Moon Task GUI**"
   ]
  },
  {
   "cell_type": "code",
   "execution_count": 125,
   "id": "8bca5f49",
   "metadata": {
    "scrolled": true
   },
   "outputs": [
    {
     "data": {
      "application/vnd.jupyter.widget-view+json": {
       "model_id": "a9e5049000e744cab511fbc232eb7166",
       "version_major": 2,
       "version_minor": 0
      },
      "text/plain": [
       "VBox(children=(Dropdown(description='Moon Task: ', options=('Start', 'Step1', 'Step2', 'Step3', 'Step5'), valu…"
      ]
     },
     "metadata": {},
     "output_type": "display_data"
    }
   ],
   "source": [
    "display(Moon_Task_dashboard_gui)"
   ]
  },
  {
   "cell_type": "markdown",
   "id": "72922f89",
   "metadata": {},
   "source": [
    "###  load Moon CDM results"
   ]
  },
  {
   "cell_type": "markdown",
   "id": "e4291226",
   "metadata": {},
   "source": [
    "**load Moon orginal image**"
   ]
  },
  {
   "cell_type": "code",
   "execution_count": 118,
   "id": "592a4ec7",
   "metadata": {},
   "outputs": [],
   "source": [
    "import re\n",
    "image_path_m = '/Users/yd1522/ACSE-2/group_project//Moon_WAC_Training/images'\n",
    "os.chdir(workspace_path)\n",
    "path_m = os.getcwd()\n",
    "rel_path_m = os.path.relpath(image_path_m, path_m)\n",
    "files_m = os.listdir(rel_path_m)\n",
    "images_m = [rel_path_m + '/' +\n",
    "          files_m[i] for i in range(len(files_m)) \n",
    "          if re.search(\".jp\", files_m[i]) is not None]\n",
    "# images_m"
   ]
  },
  {
   "cell_type": "code",
   "execution_count": 119,
   "id": "cf16c01b",
   "metadata": {},
   "outputs": [],
   "source": [
    "kinds_m = [image.split('_')[-1] for image in images_m]\n",
    "kinds_m_ = [kind.split('.')[0] for kind in kinds_m]\n",
    "# kinds_m_"
   ]
  },
  {
   "cell_type": "markdown",
   "id": "736a9d4b",
   "metadata": {},
   "source": [
    "**load Moon detect image**"
   ]
  },
  {
   "cell_type": "code",
   "execution_count": null,
   "id": "60dfd4d5",
   "metadata": {},
   "outputs": [],
   "source": []
  },
  {
   "cell_type": "markdown",
   "id": "8efedad8",
   "metadata": {},
   "source": [
    "**load Moon Size-Frequency**"
   ]
  },
  {
   "cell_type": "code",
   "execution_count": null,
   "id": "837ab79c",
   "metadata": {},
   "outputs": [],
   "source": []
  },
  {
   "cell_type": "markdown",
   "id": "f0de7205",
   "metadata": {},
   "source": [
    "##  Moon CDM Gui framework"
   ]
  },
  {
   "cell_type": "code",
   "execution_count": 98,
   "id": "7859a016",
   "metadata": {},
   "outputs": [],
   "source": [
    "plot_1_Moon = widgets.Output()\n",
    "plot_2_Moon = widgets.Output()\n",
    "\n",
    "plot_3_Moon = widgets.Output()\n",
    "plot_4_Moon = widgets.Output()\n",
    "analysis_Moon = widgets.Output()\n",
    "\n",
    "btn_analysis_M = widgets.Button(description='Analysis')"
   ]
  },
  {
   "cell_type": "code",
   "execution_count": 99,
   "id": "aaf38a54",
   "metadata": {},
   "outputs": [],
   "source": [
    "def common_analysis_M():\n",
    "    plot_1_Moon.clear_output()\n",
    "    plot_2_Moon.clear_output()\n",
    "    plot_3_Moon.clear_output()\n",
    "    plot_4_Moon.clear_output()\n",
    "    analysis_Moon.clear_output()\n",
    "\n",
    "    \n",
    "    with plot_1_Moon:\n",
    "        \n",
    "        ipyplot.plot_class_tabs(images_m, kinds_m_, max_imgs_per_tab=10, img_width=800)\n",
    "        \n",
    "        \n",
    "    with plot_2_Moon:\n",
    "\n",
    "        !python example.py\n",
    "        \n",
    "    with plot_3_Moon: \n",
    "\n",
    "        !python example.py\n",
    "\n",
    "    \n",
    "    with plot_4_Moon: # Z-dt Plot\n",
    "        !python example.py\n",
    "    \n",
    "    with analysis_Moon: # M-z Plot\n",
    "        !python example.py\n",
    "\n",
    "    \n",
    "def btn_analysis_eventhandler_M(obj):\n",
    "    common_analysis_M()\n",
    "\n",
    "btn_analysis_M.on_click(btn_analysis_eventhandler_M)\n"
   ]
  },
  {
   "cell_type": "code",
   "execution_count": 100,
   "id": "a3b2a6f9",
   "metadata": {},
   "outputs": [],
   "source": [
    "input_widgets2_M = widgets.HBox([btn_analysis_M])"
   ]
  },
  {
   "cell_type": "code",
   "execution_count": 103,
   "id": "bb2c894c",
   "metadata": {},
   "outputs": [],
   "source": [
    "# tab = widgets.Tab([output, output_2, plot_1, plot_2, plot_3, plot_4, plot_5, plot_6])\n",
    "tab_M = widgets.Tab([plot_1_Moon, plot_2_Moon, plot_3_Moon, plot_4_Moon, analysis_Moon])\n",
    "\n",
    "tab_M.set_title(0, 'Original Image')\n",
    "tab_M.set_title(1, 'CDM Detection')\n",
    "tab_M.set_title(2, 'large Image')\n",
    "tab_M.set_title(3, 'S-F Plot') # size-frequency distribution of detected craters\n",
    "tab_M.set_title(4, 'Statistics Analysis')\n",
    "# display(tab)"
   ]
  },
  {
   "cell_type": "code",
   "execution_count": 133,
   "id": "f01e453e",
   "metadata": {
    "scrolled": false
   },
   "outputs": [],
   "source": [
    "dashboard2_M = widgets.VBox([input_widgets2_M, tab_M])\n",
    "# display(dashboard2_M)"
   ]
  },
  {
   "cell_type": "markdown",
   "id": "4f47a5d7",
   "metadata": {},
   "source": [
    "## Results Visualisation"
   ]
  },
  {
   "cell_type": "markdown",
   "id": "2fa924d3",
   "metadata": {},
   "source": [
    "**GUI framework**"
   ]
  },
  {
   "cell_type": "code",
   "execution_count": 105,
   "id": "18201108",
   "metadata": {},
   "outputs": [],
   "source": [
    "CDM_Planet = widgets.RadioButtons(\n",
    "    options=['Mars','Moon'],\n",
    "    value='Mars',\n",
    "    description='Planet: '\n",
    ")"
   ]
  },
  {
   "cell_type": "code",
   "execution_count": 108,
   "id": "4765c225",
   "metadata": {},
   "outputs": [],
   "source": [
    "output_gui = widgets.Output()\n",
    "tab_gui = widgets.Tab([output_gui])\n",
    "# tab_gui"
   ]
  },
  {
   "cell_type": "code",
   "execution_count": 110,
   "id": "d3e55252",
   "metadata": {},
   "outputs": [],
   "source": [
    "dashboard_gui = widgets.VBox([CDM_Planet, tab_gui])\n",
    "# dashboard_gui                          "
   ]
  },
  {
   "cell_type": "code",
   "execution_count": 115,
   "id": "97368095",
   "metadata": {},
   "outputs": [],
   "source": [
    "def myfunc_gui(change):\n",
    "    with output_gui:\n",
    "        output_gui.clear_output()\n",
    "        if change['new'] == 'Mars':\n",
    "            display(dashboard2)\n",
    "        elif change['new'] == 'Moon':\n",
    "            display(dashboard2_M)\n",
    "        else:\n",
    "            print('*********************** please select the button :D ***********************')\n",
    "    "
   ]
  },
  {
   "cell_type": "code",
   "execution_count": 116,
   "id": "8a852179",
   "metadata": {},
   "outputs": [],
   "source": [
    "CDM_Planet.observe(myfunc_gui, names='value')"
   ]
  },
  {
   "cell_type": "code",
   "execution_count": 117,
   "id": "887a5a9e",
   "metadata": {
    "scrolled": false
   },
   "outputs": [
    {
     "data": {
      "application/vnd.jupyter.widget-view+json": {
       "model_id": "d5ac48ff42d54bd488a68d3f31a4f451",
       "version_major": 2,
       "version_minor": 0
      },
      "text/plain": [
       "VBox(children=(RadioButtons(description='Planet: ', options=('Mars', 'Moon'), value='Mars'), Tab(children=(Out…"
      ]
     },
     "metadata": {},
     "output_type": "display_data"
    }
   ],
   "source": [
    "display(dashboard_gui)"
   ]
  }
 ],
 "metadata": {
  "kernelspec": {
   "display_name": "Python 3 (ipykernel)",
   "language": "python",
   "name": "python3"
  },
  "language_info": {
   "codemirror_mode": {
    "name": "ipython",
    "version": 3
   },
   "file_extension": ".py",
   "mimetype": "text/x-python",
   "name": "python",
   "nbconvert_exporter": "python",
   "pygments_lexer": "ipython3",
   "version": "3.8.13"
  },
  "toc": {
   "base_numbering": 1,
   "nav_menu": {},
   "number_sections": true,
   "sideBar": true,
   "skip_h1_title": false,
   "title_cell": "Table of Contents",
   "title_sidebar": "Contents",
   "toc_cell": false,
   "toc_position": {},
   "toc_section_display": true,
   "toc_window_display": true
  }
 },
 "nbformat": 4,
 "nbformat_minor": 5
}
