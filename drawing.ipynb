{
 "cells": [
  {
   "cell_type": "code",
   "execution_count": 1,
   "metadata": {},
   "outputs": [],
   "source": [
    "import pandas as pd\n",
    "import matplotlib.pyplot as plt\n",
    "import os"
   ]
  },
  {
   "cell_type": "code",
   "execution_count": 3,
   "metadata": {},
   "outputs": [
    {
     "data": {
      "text/plain": [
       "[]"
      ]
     },
     "execution_count": 3,
     "metadata": {},
     "output_type": "execute_result"
    }
   ],
   "source": [
    "# # csv file for labels is actually txt files\n",
    "\n",
    "pwd = os.getcwd()\n",
    "\n",
    "csv_dir_det = os.path.join(pwd, 'results/detections')\n",
    "csv_files_det = os.listdir(csv_dir_det)\n",
    "csv_paths_det = [i for i in os.path.join(pwd, csv_files_det)]\n",
    "csv_df_list_det = [pd.read_csv(i) for i in csv_paths_det]\n",
    "# df_det columns: x, y, w, h\n",
    "csv_df_det = pd.concat(csv_df_list_det, axis = 0)\n",
    "\n",
    "csv_dir_label = os.path.join(pwd, 'datasets/mars/labels/test')\n",
    "csv_files_label = os.listdir(csv_dir_label)\n",
    "csv_paths_label = [i for i in os.path.join(pwd, csv_files_label)]\n",
    "csv_df_list_label = [pd.read_csv(i, names = ['0']) for i in csv_paths_label]\n",
    "\n",
    "# change old df_label to new df_label\n",
    "csv_df_label = pd.concat(csv_df_list_label, axis = 0)\n",
    "csv_df_label_items_list = [[float(j) for j in csv_df_label.iloc[i,0].split(' ')] \n",
    "                       for i in range(len(csv_df_label))]\n",
    "csv_df_label = pd.DataFrame(csv_df_label_items_list, \n",
    "                            columns = ['class','scale_x','scale_y','scale_w','scale_h'])"
   ]
  },
  {
   "cell_type": "code",
   "execution_count": null,
   "metadata": {},
   "outputs": [],
   "source": [
    "# get log2 intervals for crater size and log10 intervals for crater number\n",
    "\n",
    "img_size = 416\n",
    "length_per_pixel = 0.1\n",
    "diameter = img_size * (csv_df_label['scale_w'] + csv_df_label['scale_h']) / 2"
   ]
  },
  {
   "cell_type": "code",
   "execution_count": null,
   "metadata": {},
   "outputs": [],
   "source": []
  }
 ],
 "metadata": {
  "kernelspec": {
   "display_name": "Python 3.9.13 ('base')",
   "language": "python",
   "name": "python3"
  },
  "language_info": {
   "codemirror_mode": {
    "name": "ipython",
    "version": 3
   },
   "file_extension": ".py",
   "mimetype": "text/x-python",
   "name": "python",
   "nbconvert_exporter": "python",
   "pygments_lexer": "ipython3",
   "version": "3.9.13"
  },
  "orig_nbformat": 4,
  "vscode": {
   "interpreter": {
    "hash": "5e700bc15670c0688e0b9b14bfcbc4a6f0237600842d0c7703f8e9c417ffebbf"
   }
  }
 },
 "nbformat": 4,
 "nbformat_minor": 2
}
