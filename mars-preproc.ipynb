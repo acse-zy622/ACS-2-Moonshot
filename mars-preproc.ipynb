{
 "cells": [
  {
   "cell_type": "code",
   "execution_count": 1,
   "metadata": {},
   "outputs": [],
   "source": [
    "import pandas as pd\n",
    "import glob\n",
    "import os\n",
    "import numpy as np\n",
    "from matplotlib import pyplot as plt"
   ]
  },
  {
   "cell_type": "code",
   "execution_count": 1,
   "metadata": {},
   "outputs": [],
   "source": [
    "def labelling(expectedDir):\n",
    "    '''\n",
    "    For user input-path for directory to label the datasets.\n",
    "\n",
    "    Parameters\n",
    "    ---------------\n",
    "    expectedDir: str.\n",
    "        user input for directory.\n",
    "\n",
    "    Returns\n",
    "    ---------------\n",
    "    transformed datasets with labels.\n",
    "    '''\n",
    "\n",
    "    files = [os.path.basename(x) for x in glob.glob(expectedDir + '*.csv')]\n",
    "    for i in files:\n",
    "        df = pd.read_csv(i,\n",
    "                         names=['X', 'Y', 'W', 'H'])\n",
    "        df.insert(loc=0,\n",
    "                  column='labels',\n",
    "                  value=0)\n",
    "        df.to_csv(i, header=False, index=False, sep=' ')\n",
    "    \n",
    "\n"
   ]
  },
  {
   "cell_type": "code",
   "execution_count": 3,
   "metadata": {},
   "outputs": [],
   "source": [
    "expectedDir = './acds_project/datasets/mars/labels/val2023/'\n",
    "\n",
    "labelling(expectedDir)"
   ]
  },
  {
   "cell_type": "code",
   "execution_count": 9,
   "metadata": {},
   "outputs": [
    {
     "data": {
      "image/png": "[encoded data removed]",
      "text/plain": [
       "<Figure size 640x480 with 1 Axes>"
      ]
     },
     "metadata": {},
     "output_type": "display_data"
    }
   ],
   "source": [
    "def ploting_freq_and_scaling(expectedDir,Dir1,Dir2,Dir3):\n",
    "    '''\n",
    "    For user input-path for directory to plot frequency of size of objects and scale them using three domains.\n",
    "\n",
    "    Parameters\n",
    "    ---------------\n",
    "    expectedDir: str.\n",
    "        user input for directory.\n",
    "    Dir1: str.\n",
    "        path for small object.\n",
    "    Dir2: str.\n",
    "        path for medium object.\n",
    "    Dir3: str.\n",
    "        path for large object.\n",
    "\n",
    "    Returns\n",
    "    ---------------\n",
    "    frequency distribution histogram and scaled dataset.\n",
    "    '''\n",
    "    \n",
    "    # plot frequency\n",
    "    files = [os.path.basename(x) for x in glob.glob(expectedDir + '*.csv')]\n",
    "    freq = []\n",
    "    for i in files:\n",
    "        df = pd.read_csv(i,\n",
    "                     names=['labels', 'X', 'Y', 'W', 'H'],\n",
    "                     delimiter=' ',)\n",
    "        for j in df.index:\n",
    "            freq.append((df.loc[j, 'W'] + df.loc[j, 'H'])/2)\n",
    "            \n",
    "        freq = np.array(freq)\n",
    "        plt.hist(freq, bins=[0, 0.2, 0.4, 0.6, 0.8, 1])\n",
    "        plt.title(\"frequency distribution\")\n",
    "        plt.show()\n",
    "\n",
    "    # scale datasets\n",
    "    for i in files[:]:\n",
    "        df = pd.read_csv(i,\n",
    "                     names=['labels', 'X', 'Y', 'W', 'H'],\n",
    "                     delimiter=' ',)\n",
    "        dfs = df.copy()\n",
    "        dfm = df.copy()\n",
    "        dfl = df.copy()\n",
    "        for j in df.index:\n",
    "            if ((df.loc[j, 'W'] + df.loc[j, 'H'])/2) >= 0.1:\n",
    "                dfs = dfs.drop(j)\n",
    "            if ((df.loc[j, 'W'] + df.loc[j, 'H'])/2) < 0.1 or ((df.loc[j, 'W'] + df.loc[j, 'H'])/2) > 0.3:\n",
    "                dfm = dfm.drop(j)\n",
    "            if ((df.loc[j, 'W'] + df.loc[j, 'H'])/2) <= 0.3:\n",
    "                dfl = dfl.drop(j)\n",
    "\n",
    "        dfs.to_csv(Dir1 +\n",
    "               i, header=False, index=False, sep=' ')\n",
    "        dfm.to_csv(Dir2 +\n",
    "               i, header=False, index=False, sep=' ')\n",
    "        dfl.to_csv(Dir3 +\n",
    "               i, header=False, index=False, sep=' ')\n"
   ]
  },
  {
   "cell_type": "code",
   "execution_count": null,
   "metadata": {},
   "outputs": [],
   "source": [
    "expectedDir = './acds_project/datasets/mars/labels/val2023/'\n",
    "Dir1 = './acds_project/datasets/mars/labels/vals2023/'\n",
    "Dir2 = './acds_project/datasets/mars/labels/valm2023/'\n",
    "Dir3 = './acds_project/datasets/mars/labels/vall2023/'\n",
    "\n",
    "ploting_freq_and_scaling(expectedDir,Dir1,Dir2,Dir3)\n"
   ]
  }
 ],
 "metadata": {
  "kernelspec": {
   "display_name": "Python 3",
   "language": "python",
   "name": "python3"
  },
  "language_info": {
   "codemirror_mode": {
    "name": "ipython",
    "version": 3
   },
   "file_extension": ".py",
   "mimetype": "text/x-python",
   "name": "python",
   "nbconvert_exporter": "python",
   "pygments_lexer": "ipython3",
   "version": "3.10.7"
  },
  "orig_nbformat": 4,
  "vscode": {
   "interpreter": {
    "hash": "2b5b5811a8a1eac832bf802133e6f07ede537aed9dd63053f40db53c079a83cb"
   }
  }
 },
 "nbformat": 4,
 "nbformat_minor": 2
}
