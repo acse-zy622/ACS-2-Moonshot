{
 "cells": [
  {
   "attachments": {},
   "cell_type": "markdown",
   "metadata": {},
   "source": [
    "# Hyperparameter tuning"
   ]
  },
  {
   "attachments": {},
   "cell_type": "markdown",
   "metadata": {},
   "source": [
    "The hyperparameters we have used are all in google onedrive. It should be in the path of './acds_project/hyper_result.zip'. As the result of grid search, we set the learning rate to be 0.001. what is more, we finally choose the optimizer AdamW, which is a optimization strategy applying stochastic gradient descent method that is based on adaptive estimation of first-order and second-order moments with an added method to decay.\n",
    "\n",
    "For the specific details for hyperparameters tuning, please see presentation slides.(we displayed the results on one of them.)"
   ]
  },
  {
   "attachments": {},
   "cell_type": "markdown",
   "metadata": {},
   "source": [
    "# Model Modification and performance"
   ]
  },
  {
   "attachments": {},
   "cell_type": "markdown",
   "metadata": {},
   "source": [
    "The first metric we found to fit in the object detection algorithm was IOU, which is the area of union divided by the area of intersection. Moreover,it can also be combined with mAP metric as a threshold condition. Which was basically mAP@0.5 and mAP@.05-.95 as our evaluation measures.\n",
    "\n",
    "Result for Moon and Mars. We achieved 0.919 average precision on Mars datasets while 0.704 average precision Moon datasets.\n",
    "\n",
    "Design of crater models. We have trained three models with different image resolutions in order to detect craters of different sizes. Generally, yolov5 performs well in detecting large scales of craters on Mars datasets. Hence, we fed more weights on the higher resolution models with larger batch sizes in the validation as well as testing stages."
   ]
  },
  {
   "attachments": {},
   "cell_type": "markdown",
   "metadata": {},
   "source": [
    "# Training command for Mars"
   ]
  },
  {
   "cell_type": "code",
   "execution_count": null,
   "metadata": {},
   "outputs": [],
   "source": [
    "!python train.py --device 0 --img 960 --batch 24 --epochs 50 --data mars.yaml --weights yolov5l.pt --optimizer 'AdamW' --hyp 'data/hyps/hyp.scratch-low.yaml'"
   ]
  },
  {
   "cell_type": "code",
   "execution_count": null,
   "metadata": {},
   "outputs": [],
   "source": [
    "!python train.py --device 0 --img 600 --batch 24 --epochs 50 --data mars.yaml --weights yolov5l.pt --optimizer 'AdamW' --hyp 'data/hyps/hyp.scratch-low.yaml'"
   ]
  },
  {
   "cell_type": "code",
   "execution_count": null,
   "metadata": {},
   "outputs": [],
   "source": [
    "!python train.py --device 0 --img 976 --batch 24 --epochs 50 --data mars.yaml --weights yolov5m.pt --optimizer 'AdamW' --hyp 'data/hyps/hyp.scratch-low.yaml'"
   ]
  },
  {
   "cell_type": "code",
   "execution_count": null,
   "metadata": {},
   "outputs": [],
   "source": [
    "!python val.py --weights runs/train/exp23/weights/best.pt runs/train/exp24/weights/best.pt runs/train/exp28/weights/best.pt --data mars.yaml --img 600 --half"
   ]
  },
  {
   "attachments": {},
   "cell_type": "markdown",
   "metadata": {},
   "source": [
    "# Training command for Moon"
   ]
  },
  {
   "cell_type": "code",
   "execution_count": null,
   "metadata": {},
   "outputs": [],
   "source": [
    "!python train.py --device 0 --img 960 --batch 24 --epochs 50 --data moon.yaml --weights yolov5l.pt --optimizer 'AdamW' --hyp 'data/hyps/hyp.scratch-low.yaml'"
   ]
  },
  {
   "cell_type": "code",
   "execution_count": null,
   "metadata": {},
   "outputs": [],
   "source": [
    "!python train.py --device 0 --img 768 --batch 24 --epochs 50 --data moon.yaml --weights yolov5l.pt --optimizer 'AdamW' --hyp 'data/hyps/hyp.scratch-low.yaml'"
   ]
  },
  {
   "cell_type": "code",
   "execution_count": null,
   "metadata": {},
   "outputs": [],
   "source": [
    "!python val.py --weights runs/train/exp45/weights/best.pt runs/train/exp46/weights/best.pt --data moon.yaml --img 820 --half"
   ]
  },
  {
   "attachments": {},
   "cell_type": "markdown",
   "metadata": {},
   "source": [
    "# Final comments"
   ]
  },
  {
   "attachments": {},
   "cell_type": "markdown",
   "metadata": {},
   "source": [
    "https://drive.google.com/drive/folders/19zVaEjTA8jt_aHHdMJswT7GCHJMrYLqy?usp=sharing\n",
    "\n",
    "All the trained weights are in this file. For Mars dataset, enssemble exp23,exp24,exp28/weights/best.pt in the validation stage.\n",
    "\n",
    "For moon dataset, enssemble exp45, exp46/weights/best.pt in the validation stage."
   ]
  }
 ],
 "metadata": {
  "kernelspec": {
   "display_name": "Python 3",
   "language": "python",
   "name": "python3"
  },
  "language_info": {
   "name": "python",
   "version": "3.10.7"
  },
  "orig_nbformat": 4,
  "vscode": {
   "interpreter": {
    "hash": "2b5b5811a8a1eac832bf802133e6f07ede537aed9dd63053f40db53c079a83cb"
   }
  }
 },
 "nbformat": 4,
 "nbformat_minor": 2
}
